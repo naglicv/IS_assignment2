{
 "cells": [
  {
   "cell_type": "markdown",
   "metadata": {},
   "source": [
    "# Hyperparameter tuning"
   ]
  },
  {
   "cell_type": "code",
   "execution_count": null,
   "metadata": {},
   "outputs": [],
   "source": [
    "import numpy as np\n",
    "import pandas as pd\n",
    "from sklearn.model_selection import train_test_split, GridSearchCV \n",
    "from sklearn.feature_extraction.text import TfidfVectorizer\n",
    "from sklearn.linear_model import LogisticRegression\n",
    "from sklearn.metrics import accuracy_score, classification_report\n",
    "from sklearn.linear_model import LogisticRegression\n",
    "from sklearn.metrics import accuracy_score\n",
    "from sklearn.ensemble import AdaBoostClassifier, BaggingClassifier, RandomForestClassifier, VotingClassifier\n",
    "from sklearn.naive_bayes import MultinomialNB\n",
    "from sklearn.neighbors import KNeighborsClassifier"
   ]
  },
  {
   "cell_type": "markdown",
   "metadata": {},
   "source": [
    "### Priprava podatkov"
   ]
  },
  {
   "cell_type": "code",
   "execution_count": null,
   "metadata": {},
   "outputs": [],
   "source": [
    "df = pd.read_csv(\"./datasets/cleaned.csv\")\n",
    "df = df[:15000].copy()\n",
    "\n",
    "X = df.drop('category', axis=1)\n",
    "y = pd.Categorical(df['category'])\n",
    "\n",
    "X_train, X_test, y_train, y_test = train_test_split(X, y, test_size=0.2, random_state=42)\n",
    "\n",
    "vectorizer = TfidfVectorizer()\n",
    "X_train_vec = vectorizer.fit_transform(X_train['clean_text'].values.astype('U'))\n",
    "X_test_vec = vectorizer.transform(X_test['clean_text'].values.astype('U'))"
   ]
  },
  {
   "cell_type": "markdown",
   "metadata": {},
   "source": [
    "### Hyper-parameter tuning for Logistic Regression"
   ]
  },
  {
   "cell_type": "code",
   "execution_count": null,
   "metadata": {},
   "outputs": [],
   "source": [
    "param_grid = {\n",
    "   'C': [0.001, 0.01, 0.1, 1, 10, 100],\n",
    "   'penalty': ['l1', 'l2', 'elasticnet'],\n",
    "   'solver': ['newton-cg', 'liblinear', 'sag', 'saga'],\n",
    "   'max_iter': [1000, 10000],\n",
    "   'random_state': [42]\n",
    "}\n",
    "\n",
    "# Create a base model\n",
    "lr = LogisticRegression()\n",
    "\n",
    "# Instantiate the grid search model\n",
    "grid_search = GridSearchCV(estimator=lr, param_grid=param_grid, cv=5, scoring='accuracy')\n",
    "\n",
    "# Fit the grid search to the data\n",
    "grid_search.fit(X_train_vec, y_train)\n",
    "\n",
    "# Get the best parameters\n",
    "best_params = grid_search.best_params_\n",
    "print(\"Best parameters found: \", best_params)"
   ]
  },
  {
   "cell_type": "markdown",
   "metadata": {},
   "source": [
    "### Hyper-parameter tuning for Boosting"
   ]
  },
  {
   "cell_type": "code",
   "execution_count": null,
   "metadata": {},
   "outputs": [],
   "source": [
    "param_grid = {\n",
    "    'n_estimators': [10, 40, 50, 100],\n",
    "    'learning_rate': [10, 50, 100, 200, 350, 500]\n",
    "}\n",
    "boost = AdaBoostClassifier()\n",
    "grid_search = GridSearchCV(boost, param_grid, cv=5, scoring='accuracy')\n",
    "grid_search.fit(X_train_vec, y_train)\n",
    "\n",
    "best_params = grid_search.best_estimator_\n",
    "\n",
    "accuracy = best_params.score(X_test_vec, y_test)\n",
    "print(f\"Best estimators: {grid_search.best_params_}, Best Model Accuracy: {accuracy}\")"
   ]
  },
  {
   "cell_type": "markdown",
   "metadata": {},
   "source": [
    "### Hyper-parameter tuning for Naive Bayes"
   ]
  },
  {
   "cell_type": "code",
   "execution_count": null,
   "metadata": {},
   "outputs": [],
   "source": [
    "param_grid = {\n",
    "    'alpha': [0.1, 0.5, 1.0, 2.0],\n",
    "    'fit_prior': [True, False]\n",
    "}\n",
    "\n",
    "nb_classifier = MultinomialNB()\n",
    "grid_search = GridSearchCV(nb_classifier, param_grid, cv=5, scoring='accuracy')\n",
    "\n",
    "grid_search.fit(X_train_vec, y_train)\n",
    "\n",
    "accuracy = best_params.score(X_test_vec, y_test)\n",
    "print(f\"Best estimators: {grid_search.best_params_}, Best Model Accuracy: {accuracy}\")"
   ]
  },
  {
   "cell_type": "markdown",
   "metadata": {},
   "source": [
    "### Hyper-parameter tuning for kNN"
   ]
  },
  {
   "cell_type": "code",
   "execution_count": null,
   "metadata": {},
   "outputs": [],
   "source": [
    "param_grid = {\n",
    "    'k': range(1,25)\n",
    "}\n",
    "\n",
    "knn_classifier = KNeighborsClassifier()\n",
    "grid_search = GridSearchCV(knn_classifier, param_grid, cv=5, scoring='accuracy')\n",
    "\n",
    "grid_search.fit(X_train_vec, y_train)\n",
    "\n",
    "accuracy = best_params.score(X_test_vec, y_test)\n",
    "print(f\"Best estimators: {grid_search.best_params_}, Best Model Accuracy: {accuracy}\")"
   ]
  }
 ],
 "metadata": {
  "language_info": {
   "name": "python"
  }
 },
 "nbformat": 4,
 "nbformat_minor": 2
}
